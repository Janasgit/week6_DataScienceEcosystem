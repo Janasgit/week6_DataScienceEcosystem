{
  "nbformat": 4,
  "nbformat_minor": 0,
  "metadata": {
    "colab": {
      "provenance": [],
      "authorship_tag": "ABX9TyMgL6KBvijKY7lpwNoGuIhQ",
      "include_colab_link": true
    },
    "kernelspec": {
      "name": "python3",
      "display_name": "Python 3"
    },
    "language_info": {
      "name": "python"
    }
  },
  "cells": [
    {
      "cell_type": "markdown",
      "metadata": {
        "id": "view-in-github",
        "colab_type": "text"
      },
      "source": [
        "<a href=\"https://colab.research.google.com/github/Janasgit/week6_DataScienceEcosystem/blob/main/DataScienceEcosystem.ipynb\" target=\"_parent\"><img src=\"https://colab.research.google.com/assets/colab-badge.svg\" alt=\"Open In Colab\"/></a>"
      ]
    },
    {
      "cell_type": "markdown",
      "source": [
        "#Data Science Tools and Ecosystem"
      ],
      "metadata": {
        "id": "SEipp2roKCHz"
      }
    },
    {
      "cell_type": "markdown",
      "source": [
        "In this notebook, Data Science Tools and Ecosystem are summarized."
      ],
      "metadata": {
        "id": "Ss1AJki8Kx6Q"
      }
    },
    {
      "cell_type": "markdown",
      "source": [
        "Some of the popular languages that Data Scientists use are:\n",
        "\n",
        "1. R\n",
        "2. SQL\n",
        "3. Julia\n",
        "4. Scala\n",
        "5. MATLAB\n",
        "6. Java\n",
        "7. Hadoop\n",
        "8. C++\n",
        "9. Python\n",
        "\n",
        "\n",
        "\n"
      ],
      "metadata": {
        "id": "kPNuTt_6LX7_"
      }
    },
    {
      "cell_type": "markdown",
      "source": [
        "Some of the commonly used libraries used by Data Scientists include:\n",
        "\n",
        "1. pandas\n",
        "2. Matplotlib\n",
        "3. Seaborn\n",
        "4. SciPy\n",
        "5. ggplot2\n",
        "6. shiny\n",
        "7. NumPy"
      ],
      "metadata": {
        "id": "sWXLWH6gMWaB"
      }
    },
    {
      "cell_type": "markdown",
      "source": [
        "| Data Science Tools |\n",
        "|--------------------|\n",
        "| Jupyter Notebook |\n",
        "| VS Code |\n",
        "| Rstudio |"
      ],
      "metadata": {
        "id": "Vkx2951DPdma"
      }
    },
    {
      "cell_type": "markdown",
      "source": [
        "###Below are a few examples of evaluating arithmetic expressions in Python.\n",
        "\n",
        "result = 5 + 3  # Addition\n",
        "\n",
        "result = 10 - 2  # Subtraction\n"
      ],
      "metadata": {
        "id": "6LiiLBDzQh0r"
      }
    },
    {
      "cell_type": "code",
      "source": [
        "#This a simple arithmetic expression to mutiply then add integers\n",
        "(3*4)+5"
      ],
      "metadata": {
        "colab": {
          "base_uri": "https://localhost:8080/"
        },
        "id": "P6kRQq4MR3w9",
        "outputId": "0c3ea4aa-d54f-447c-cf7c-6e16aa8e92a7"
      },
      "execution_count": 2,
      "outputs": [
        {
          "output_type": "execute_result",
          "data": {
            "text/plain": [
              "17"
            ]
          },
          "metadata": {},
          "execution_count": 2
        }
      ]
    },
    {
      "cell_type": "code",
      "source": [
        "#This will convert 200 minutes to hours by dividing by 60\n",
        "200/60"
      ],
      "metadata": {
        "colab": {
          "base_uri": "https://localhost:8080/"
        },
        "id": "U4h16UX9R-AW",
        "outputId": "3efed96c-6852-4adf-90c9-9475de9215fd"
      },
      "execution_count": 5,
      "outputs": [
        {
          "output_type": "execute_result",
          "data": {
            "text/plain": [
              "3.3333333333333335"
            ]
          },
          "metadata": {},
          "execution_count": 5
        }
      ]
    },
    {
      "cell_type": "markdown",
      "source": [
        "**Objectives:**\n",
        "\n",
        "\n",
        "* List popular languages for Data Science\n",
        "* List commonly used libraries used by Data Scientists\n",
        "* Create a table in a markdown cell\n",
        "* Write and run an arithmetic expression\n",
        "\n",
        "\n",
        "\n",
        "\n"
      ],
      "metadata": {
        "id": "bGrHXVivV5Iy"
      }
    },
    {
      "cell_type": "markdown",
      "source": [
        "##Jana Lorch"
      ],
      "metadata": {
        "id": "IhZFDwZpXCPq"
      }
    }
  ]
}